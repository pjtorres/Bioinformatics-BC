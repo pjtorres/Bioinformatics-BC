{
 "cells": [
  {
   "cell_type": "markdown",
   "metadata": {},
   "source": [
    "# Exporting QIIME2 data for PhyloSeq Analysis\n",
    "\n",
    "###### Pedro J. Torres 2018"
   ]
  },
  {
   "cell_type": "markdown",
   "metadata": {},
   "source": [
    "By this point you should have already gone through most of your qiime2 tutorial. Files that are needed are:\n",
    "1. Mapping File\n",
    "2. unrooted-tree.qza\n",
    "3. taxonomy.qza\n",
    "4. table.qza\n",
    "\n",
    ""
   ]
  },
  {
   "cell_type": "code",
   "execution_count": 1,
   "metadata": {
    "collapsed": true
   },
   "outputs": [],
   "source": [
    "# Export tree\n",
    "!qiime tools export unrooted-tree.qza \\\n",
    "    --output-dir Phyloseq"
   ]
  },
  {
   "cell_type": "code",
   "execution_count": 6,
   "metadata": {
    "collapsed": true
   },
   "outputs": [],
   "source": [
    "# Export taxonomy\n",
    "!qiime tools export taxonomy.qza \\\n",
    "    --output-dir Phyloseq"
   ]
  },
  {
   "cell_type": "code",
   "execution_count": 8,
   "metadata": {
    "collapsed": true
   },
   "outputs": [],
   "source": [
    "# Export table\n",
    "!qiime tools export filtered-table.qza \\\n",
    "    --output-dir Phyloseq"
   ]
  },
  {
   "cell_type": "code",
   "execution_count": 17,
   "metadata": {},
   "outputs": [
    {
     "name": "stdout",
     "output_type": "stream",
     "text": [
      "feature-table.biom\n",
      "sample-metadata.tsv\n",
      "taxonomy.tsv\n",
      "tree.nwk\n"
     ]
    }
   ],
   "source": [
    "%%bash\n",
    "# Our Phyloseq folder should now have the following files\n",
    "ls Phyloseq"
   ]
  },
  {
   "cell_type": "markdown",
   "metadata": {},
   "source": [
    "### Next we will odify the exported taxonomy file's header before using it with BIOM software. "
   ]
  },
  {
   "cell_type": "code",
   "execution_count": 19,
   "metadata": {},
   "outputs": [
    {
     "name": "stdout",
     "output_type": "stream",
     "text": [
      "Feature ID\tTaxon\tConfidence\n",
      "401bd8572d676efe34bb69cd84144424\tUnassigned\t0.9556681222602029\n"
     ]
    }
   ],
   "source": [
    "%%bash\n",
    "# This is what our current header looks like in our taxonomy file\n",
    "head -n 2 Phyloseq/taxonomy.tsv"
   ]
  },
  {
   "cell_type": "markdown",
   "metadata": {},
   "source": [
    "- The first line in our taxonomy file must be changes to \n",
    "#OTUID\ttaxonomy\tconfidence"
   ]
  },
  {
   "cell_type": "code",
   "execution_count": 20,
   "metadata": {
    "collapsed": true
   },
   "outputs": [],
   "source": [
    "%%bash\n",
    "# Following script will change the first line of our file to desired header\n",
    "sed 's/Feature ID/#OTUID/' Phyloseq/taxonomy.tsv | sed 's/Taxon/taxonomy/' | sed 's/Confidence/confidence/' > Phyloseq/biom-taxonomy.tsv"
   ]
  },
  {
   "cell_type": "code",
   "execution_count": 21,
   "metadata": {},
   "outputs": [
    {
     "name": "stdout",
     "output_type": "stream",
     "text": [
      "#OTUID\ttaxonomy\tconfidence\n",
      "401bd8572d676efe34bb69cd84144424\tUnassigned\t0.9556681222602029\n"
     ]
    }
   ],
   "source": [
    "%%bash \n",
    "head -n 2 Phyloseq/biom-taxonomy.tsv"
   ]
  },
  {
   "cell_type": "markdown",
   "metadata": {},
   "source": [
    "### Add the taxonomy data to your biom file"
   ]
  },
  {
   "cell_type": "code",
   "execution_count": null,
   "metadata": {
    "collapsed": true
   },
   "outputs": [],
   "source": [
    "%%bash\n",
    "biom add-metadata \\\n",
    "    -i Phyloseq/feature-table.biom \\\n",
    "    -o Phyloseq/table-with-taxonomyv2.biom \\\n",
    "    --observation-metadata-fp Phyloseq/biom-taxonomy.tsv \\\n",
    "    --sc-separated taxonomy "
   ]
  },
  {
   "cell_type": "code",
   "execution_count": 1,
   "metadata": {},
   "outputs": [
    {
     "name": "stdout",
     "output_type": "stream",
     "text": [
      "biom-taxonomy.tsv\n",
      "feature-table.biom\n",
      "sample-metadata.tsv\n",
      "table-with-taxonomy.biom\n",
      "taxonomy.tsv\n",
      "tree.nwk\n"
     ]
    }
   ],
   "source": [
    "%%bash\n",
    "#change into our Phyloseq directory\n",
    "cd Phyloseq\n",
    "ls"
   ]
  },
  {
   "cell_type": "markdown",
   "metadata": {},
   "source": [
    "## Now that we have the necessary files we will hop onto Phyloseq"
   ]
  },
  {
   "cell_type": "code",
   "execution_count": 1,
   "metadata": {},
   "outputs": [
    {
     "data": {
      "text/plain": [
       "[1] ‘1.19.1’"
      ]
     },
     "metadata": {},
     "output_type": "display_data"
    },
    {
     "data": {
      "text/plain": [
       "[1] ‘1.2.0’"
      ]
     },
     "metadata": {},
     "output_type": "display_data"
    },
    {
     "data": {
      "text/plain": [
       "[1] ‘2.2.1’"
      ]
     },
     "metadata": {},
     "output_type": "display_data"
    },
    {
     "name": "stderr",
     "output_type": "stream",
     "text": [
      "Loading required package: permute\n",
      "Loading required package: lattice\n",
      "This is vegan 2.4-6\n"
     ]
    },
    {
     "data": {
      "text/plain": [
       "[1] ‘2.4.6’"
      ]
     },
     "metadata": {},
     "output_type": "display_data"
    },
    {
     "data": {
      "text/plain": [
       "[1] ‘3.4.1’"
      ]
     },
     "metadata": {},
     "output_type": "display_data"
    },
    {
     "data": {
      "text/plain": [
       "[1] ‘1.5’"
      ]
     },
     "metadata": {},
     "output_type": "display_data"
    },
    {
     "name": "stderr",
     "output_type": "stream",
     "text": [
      "\n",
      "Attaching package: ‘dplyr’\n",
      "\n",
      "The following objects are masked from ‘package:stats’:\n",
      "\n",
      "    filter, lag\n",
      "\n",
      "The following objects are masked from ‘package:base’:\n",
      "\n",
      "    intersect, setdiff, setequal, union\n",
      "\n"
     ]
    },
    {
     "data": {
      "text/plain": [
       "[1] ‘0.7.4’"
      ]
     },
     "metadata": {},
     "output_type": "display_data"
    },
    {
     "name": "stderr",
     "output_type": "stream",
     "text": [
      "------------------------------------------------------------------------------\n",
      "You have loaded plyr after dplyr - this is likely to cause problems.\n",
      "If you need functions from both plyr and dplyr, please load plyr first, then dplyr:\n",
      "library(plyr); library(dplyr)\n",
      "------------------------------------------------------------------------------\n",
      "\n",
      "Attaching package: ‘plyr’\n",
      "\n",
      "The following objects are masked from ‘package:dplyr’:\n",
      "\n",
      "    arrange, count, desc, failwith, id, mutate, rename, summarise,\n",
      "    summarize\n",
      "\n"
     ]
    },
    {
     "data": {
      "text/plain": [
       "[1] ‘1.8.4’"
      ]
     },
     "metadata": {},
     "output_type": "display_data"
    },
    {
     "data": {
      "text/plain": [
       "[1] ‘0.4.3’"
      ]
     },
     "metadata": {},
     "output_type": "display_data"
    },
    {
     "data": {
      "text/plain": [
       "[1] ‘1.2.0’"
      ]
     },
     "metadata": {},
     "output_type": "display_data"
    }
   ],
   "source": [
    "# Install and load R pakcages that are necessary for the analysis - Packages are collections of R functions, data, \n",
    "# and compiled code in a well-defined format. Remove the hash sign to download and install the packages.\n",
    "\n",
    "#source('http://bioconductor.org/biocLite.R')\n",
    "#biocLite('phyloseq')\n",
    "library(\"phyloseq\")\n",
    "packageVersion(\"phyloseq\")\n",
    "\n",
    "#biocLite(\"biomformat\")\n",
    "library(\"biomformat\")\n",
    "packageVersion(\"biomformat\")\n",
    "\n",
    "#install.packages(\"ggplot2\")\n",
    "library(\"ggplot2\")\n",
    "packageVersion(\"ggplot2\")\n",
    "\n",
    "#install.packages(\"vegan\")\n",
    "library(\"vegan\")\n",
    "packageVersion('vegan')\n",
    "\n",
    "#install.packages(\"grid\")\n",
    "library(\"grid\")\n",
    "packageVersion('grid')\n",
    "\n",
    "#install.packages(\"magrittr\")\n",
    "library(magrittr)\n",
    "packageVersion('magrittr')\n",
    "\n",
    "library(dplyr)\n",
    "packageVersion('dplyr')\n",
    "\n",
    "library(plyr)\n",
    "packageVersion('plyr')\n",
    "\n",
    "library(broom)\n",
    "packageVersion('broom')\n",
    "\n",
    "library('stringr')\n",
    "packageVersion('stringr')"
   ]
  },
  {
   "cell_type": "markdown",
   "metadata": {},
   "source": [
    "## Load Data into PhyloSeq Object"
   ]
  },
  {
   "cell_type": "code",
   "execution_count": 5,
   "metadata": {},
   "outputs": [
    {
     "data": {
      "text/html": [
       "'/Users/Pedro_Torres/Desktop/PBiome_treatment'"
      ],
      "text/latex": [
       "'/Users/Pedro\\_Torres/Desktop/PBiome\\_treatment'"
      ],
      "text/markdown": [
       "'/Users/Pedro_Torres/Desktop/PBiome_treatment'"
      ],
      "text/plain": [
       "[1] \"/Users/Pedro_Torres/Desktop/PBiome_treatment\""
      ]
     },
     "metadata": {},
     "output_type": "display_data"
    }
   ],
   "source": [
    "getwd()"
   ]
  },
  {
   "cell_type": "code",
   "execution_count": 7,
   "metadata": {},
   "outputs": [
    {
     "name": "stderr",
     "output_type": "stream",
     "text": [
      "Warning message in strsplit(msg, \"\\n\"):\n",
      "“input string 1 is invalid in this locale”"
     ]
    }
   ],
   "source": [
    "#add biome table, tree and metadata\n",
    "biom_data <- import_biom(BIOMfilename = \"table-with-taxonomyv2.biom\", \n",
    "                         treefilename = \"tree.nwk\")\n",
    "mapping_file <- import_qiime_sample_data(mapfilename = \"sample-metadata.tsv\")\n",
    "\n",
    "# if the above script doesn't work, try including the full file path not just the file name"
   ]
  },
  {
   "cell_type": "code",
   "execution_count": 8,
   "metadata": {},
   "outputs": [
    {
     "data": {
      "text/html": [
       "<ol class=list-inline>\n",
       "\t<li>'Kingdom'</li>\n",
       "\t<li>'Phylum'</li>\n",
       "\t<li>'Class'</li>\n",
       "\t<li>'Order'</li>\n",
       "\t<li>'Family'</li>\n",
       "\t<li>'Genus'</li>\n",
       "\t<li>'Species'</li>\n",
       "</ol>\n"
      ],
      "text/latex": [
       "\\begin{enumerate*}\n",
       "\\item 'Kingdom'\n",
       "\\item 'Phylum'\n",
       "\\item 'Class'\n",
       "\\item 'Order'\n",
       "\\item 'Family'\n",
       "\\item 'Genus'\n",
       "\\item 'Species'\n",
       "\\end{enumerate*}\n"
      ],
      "text/markdown": [
       "1. 'Kingdom'\n",
       "2. 'Phylum'\n",
       "3. 'Class'\n",
       "4. 'Order'\n",
       "5. 'Family'\n",
       "6. 'Genus'\n",
       "7. 'Species'\n",
       "\n",
       "\n"
      ],
      "text/plain": [
       "[1] \"Kingdom\" \"Phylum\"  \"Class\"   \"Order\"   \"Family\"  \"Genus\"   \"Species\""
      ]
     },
     "metadata": {},
     "output_type": "display_data"
    }
   ],
   "source": [
    "# Merge the OTU and mapping data into a phyloseq object\n",
    "phylo <- merge_phyloseq(biom_data, mapping_file)\n",
    "#Add names to biom table and check phyloseq objects\n",
    "colnames(tax_table(phylo))= c(\"Kingdom\",\"Phylum\",\"Class\",\"Order\",\"Family\",\"Genus\", \"Species\")\n",
    "rank_names(phylo)"
   ]
  },
  {
   "cell_type": "code",
   "execution_count": 9,
   "metadata": {},
   "outputs": [
    {
     "name": "stdout",
     "output_type": "stream",
     "text": [
      "[1] \"Number of Samples in our Biom Table\"\n"
     ]
    },
    {
     "data": {
      "text/html": [
       "168"
      ],
      "text/latex": [
       "168"
      ],
      "text/markdown": [
       "168"
      ],
      "text/plain": [
       "[1] 168"
      ]
     },
     "metadata": {},
     "output_type": "display_data"
    },
    {
     "name": "stdout",
     "output_type": "stream",
     "text": [
      "[1] \"Number of Sequence variants we have.\"\n"
     ]
    },
    {
     "data": {
      "text/html": [
       "26656"
      ],
      "text/latex": [
       "26656"
      ],
      "text/markdown": [
       "26656"
      ],
      "text/plain": [
       "[1] 26656"
      ]
     },
     "metadata": {},
     "output_type": "display_data"
    },
    {
     "name": "stdout",
     "output_type": "stream",
     "text": [
      "[1] \"Sequencing depth.\"\n"
     ]
    },
    {
     "data": {
      "text/plain": [
       "   Min. 1st Qu.  Median    Mean 3rd Qu.    Max. \n",
       "    239   43602   47714   48348   55020   90198 "
      ]
     },
     "metadata": {},
     "output_type": "display_data"
    }
   ],
   "source": [
    "# Start to explore the data a bit \n",
    "#number of samples\n",
    "print ('Number of Samples in our Biom Table')\n",
    "nsamples(phylo)\n",
    "# number of sequence variants\n",
    "print ('Number of Sequence variants we have.')\n",
    "ntaxa(phylo)\n",
    "#summary statistics of sampling depth\n",
    "print ('Sequencing depth.')\n",
    "depths <- sample_sums(phylo)\n",
    "summary(depths)\n",
    "\n",
    "# We see that we have a sample with a very low sequencing depth of 19 we will remove this sample"
   ]
  },
  {
   "cell_type": "markdown",
   "metadata": {},
   "source": [
    "# There you go! \n"
   ]
  }
 ],
 "metadata": {
  "kernelspec": {
   "display_name": "R",
   "language": "R",
   "name": "ir"
  },
  "language_info": {
   "codemirror_mode": "r",
   "file_extension": ".r",
   "mimetype": "text/x-r-source",
   "name": "R",
   "pygments_lexer": "r",
   "version": "3.4.1"
  }
 },
 "nbformat": 4,
 "nbformat_minor": 2
}
