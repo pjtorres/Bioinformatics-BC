{
 "cells": [
  {
   "cell_type": "code",
   "execution_count": null,
   "id": "aea1c43c",
   "metadata": {},
   "outputs": [],
   "source": [
    "import pandas as pd\n",
    "import numpy as np\n",
    "import matplotlib.pyplot as plt\n",
    "import seaborn as sns\n",
    "\n",
    "#!pip install psycopg2-binary\n",
    "#!pip install scikit-bio\n",
    "import psycopg2\n",
    "\n",
    "sql_username = 'postgres'\n",
    "database='postgres'\n",
    "sql_password = '<pswd>'\n",
    "host = '<host>.us-east-1.rds.amazonaws.com'\n",
    "\n",
    "conn_v = psycopg2.connect(host = host,\n",
    "                           port=5432,\n",
    "                          database=database,\n",
    "                          user=sql_username,\n",
    "                          password=sql_password)\n",
    "conn_v"
   ]
  },
  {
   "cell_type": "code",
   "execution_count": null,
   "id": "5b72fe73",
   "metadata": {},
   "outputs": [],
   "source": [
    "# get mapping file and set the column with sample names you wish to pull into a list\n",
    "meta= pd.read_csv('MATCHED_case_control_cohorts.csv')\n",
    "sampleids = meta['items_set_item'].values.tolist()"
   ]
  },
  {
   "cell_type": "code",
   "execution_count": null,
   "id": "8c147039",
   "metadata": {},
   "outputs": [],
   "source": [
    "# EXAPLE QUERY\n",
    "species_query = f\"\"\"\\\n",
    "SELECT s.sample_name,  MAX(a.analysis_id) ,  ttw.species_name, SUM(mgr.readcount)  as readcount  from sample s\n",
    "INNER JOIN analysis a\n",
    "ON a.sample_id=s.sample_id\n",
    "INNER JOIN microbiome_genome_results mgr\n",
    "ON mgr.analysis_id=a.analysis_id\n",
    "INNER JOIN microbe_genome mg\n",
    "ON mg.genome_id=mgr.genome_id\n",
    "INNER JOIN taxonomy_tree_wide ttw\n",
    "ON ttw.assembly_accession_name=mg.genome_name\n",
    "WHERE mg.microbe_genome_catalog_id='7' and ttw.taxonomy_tree_id='7'  AND s.sample_name IN {tuple(sampleids)}\n",
    "GROUP BY s.sample_name,  a.analysis_id ,  ttw.species_name ; \n",
    "\"\"\""
   ]
  },
  {
   "cell_type": "code",
   "execution_count": null,
   "id": "3afac43d",
   "metadata": {},
   "outputs": [],
   "source": [
    "# get species level counts --- genomes will be grouped by species\n",
    "species_counts= pd.read_sql(species_query, conn_v)"
   ]
  },
  {
   "cell_type": "code",
   "execution_count": null,
   "id": "8229723e",
   "metadata": {},
   "outputs": [],
   "source": [
    "#types of organization\n",
    "species_counts = species_counts.drop(columns='max')\n",
    "species_counts_pivot = species_counts.pivot(index='sample_name', values='readcount', columns='species_name')\n",
    "species_counts_pivot = species_counts_pivot.fillna(0)\n",
    "species_counts_pivot.to_csv('species_count.csv')\n",
    "conn_v.close()"
   ]
  },
  {
   "cell_type": "code",
   "execution_count": null,
   "id": "62a85c41",
   "metadata": {},
   "outputs": [],
   "source": [
    "# add microstat module\n",
    "import pandas as pd\n",
    "import matplotlib.pyplot as plt\n",
    "import seaborn as sns\n",
    "from scipy.stats import ttest_ind\n",
    "\n",
    "%matplotlib inline\n",
    "\n",
    "import io\n",
    "import os\n",
    "import sys\n",
    "print(sys.path)\n",
    "sys.path.append(r'/home/ubuntu/ibd/microstat')\n",
    "print(sys.path)\n",
    "import microstat\n",
    "from microstat.util import *\n",
    "from microstat.microstats import *\n",
    "from microstat.plots import *\n",
    "from microstat.microml import *"
   ]
  },
  {
   "cell_type": "code",
   "execution_count": null,
   "id": "81a78f69",
   "metadata": {},
   "outputs": [],
   "source": []
  }
 ],
 "metadata": {
  "kernelspec": {
   "display_name": "Python 3 (ipykernel)",
   "language": "python",
   "name": "python3"
  },
  "language_info": {
   "codemirror_mode": {
    "name": "ipython",
    "version": 3
   },
   "file_extension": ".py",
   "mimetype": "text/x-python",
   "name": "python",
   "nbconvert_exporter": "python",
   "pygments_lexer": "ipython3",
   "version": "3.8.13"
  }
 },
 "nbformat": 4,
 "nbformat_minor": 5
}
