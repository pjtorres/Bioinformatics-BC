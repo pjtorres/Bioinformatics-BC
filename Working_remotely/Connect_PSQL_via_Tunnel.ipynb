{
 "cells": [
  {
   "cell_type": "code",
   "execution_count": 1,
   "id": "dabe4367",
   "metadata": {},
   "outputs": [],
   "source": [
    "import pandas as pd\n",
    "import sshtunnel\n",
    "import psycopg2\n",
    "from sshtunnel import SSHTunnelForwarder"
   ]
  },
  {
   "cell_type": "code",
   "execution_count": 2,
   "id": "6e7462f2",
   "metadata": {},
   "outputs": [],
   "source": [
    "OC_vbdb_host = 'vbdb330-instance-hic2.csw9u2ykgfdl.us-east-1.rds.amazonaws.com'"
   ]
  },
  {
   "cell_type": "code",
   "execution_count": 3,
   "id": "31f75aeb",
   "metadata": {},
   "outputs": [
    {
     "name": "stdout",
     "output_type": "stream",
     "text": [
      "Identity added: /Users/pedrotorres/.ssh/id_rsa (/Users/pedrotorres/.ssh/id_rsa)\r\n"
     ]
    }
   ],
   "source": [
    "# Create an SSH tunnel\n",
    "!ssh-add ~/.ssh/id_rsa\n",
    "tunnel = SSHTunnelForwarder(\n",
    "        ('trampoline.viome.com', 22),\n",
    "        ssh_username='pedrotorres',\n",
    "        ssh_private_key='~/.ssh/id_rsa',\n",
    "        remote_bind_address=(OC_vbdb_host, 5432),\n",
    "        local_bind_address=('localhost',6540)  \n",
    ")\n",
    "tunnel.start()\n",
    "#create database connection\n",
    "conn = psycopg2.connect(\n",
    "    database='postgres',\n",
    "    user='postgres',\n",
    "    password='I8zwy0uh8mfqkkVJpYhm',\n",
    "    host= tunnel.local_bind_host,\n",
    "    port= tunnel.local_bind_port,\n",
    ")\n",
    "cur = conn.cursor()\n",
    "\n"
   ]
  },
  {
   "cell_type": "code",
   "execution_count": 5,
   "id": "e713942c",
   "metadata": {},
   "outputs": [
    {
     "data": {
      "text/html": [
       "<div>\n",
       "<style scoped>\n",
       "    .dataframe tbody tr th:only-of-type {\n",
       "        vertical-align: middle;\n",
       "    }\n",
       "\n",
       "    .dataframe tbody tr th {\n",
       "        vertical-align: top;\n",
       "    }\n",
       "\n",
       "    .dataframe thead th {\n",
       "        text-align: right;\n",
       "    }\n",
       "</style>\n",
       "<table border=\"1\" class=\"dataframe\">\n",
       "  <thead>\n",
       "    <tr style=\"text-align: right;\">\n",
       "      <th></th>\n",
       "      <th>bgc_id</th>\n",
       "      <th>microbe_bgc_catalog_id</th>\n",
       "      <th>bgc_name</th>\n",
       "      <th>bgc_type</th>\n",
       "      <th>genome_id</th>\n",
       "      <th>microbe_bgc_to_genome_map_id</th>\n",
       "      <th>bgc_type_score</th>\n",
       "      <th>bgc_product_activity</th>\n",
       "      <th>bgc_activity_score</th>\n",
       "    </tr>\n",
       "  </thead>\n",
       "  <tbody>\n",
       "    <tr>\n",
       "      <th>0</th>\n",
       "      <td>1</td>\n",
       "      <td>1</td>\n",
       "      <td>GUT_GENOME000001_3:10120-30264</td>\n",
       "      <td>sactipeptide</td>\n",
       "      <td>1722137</td>\n",
       "      <td>1</td>\n",
       "      <td>None</td>\n",
       "      <td>None</td>\n",
       "      <td>None</td>\n",
       "    </tr>\n",
       "    <tr>\n",
       "      <th>1</th>\n",
       "      <td>2</td>\n",
       "      <td>1</td>\n",
       "      <td>GUT_GENOME000004_2:167902-211261</td>\n",
       "      <td>NRPS</td>\n",
       "      <td>1720289</td>\n",
       "      <td>1</td>\n",
       "      <td>None</td>\n",
       "      <td>None</td>\n",
       "      <td>None</td>\n",
       "    </tr>\n",
       "  </tbody>\n",
       "</table>\n",
       "</div>"
      ],
      "text/plain": [
       "   bgc_id  microbe_bgc_catalog_id                          bgc_name  \\\n",
       "0       1                       1    GUT_GENOME000001_3:10120-30264   \n",
       "1       2                       1  GUT_GENOME000004_2:167902-211261   \n",
       "\n",
       "       bgc_type  genome_id  microbe_bgc_to_genome_map_id bgc_type_score  \\\n",
       "0  sactipeptide    1722137                             1           None   \n",
       "1          NRPS    1720289                             1           None   \n",
       "\n",
       "  bgc_product_activity bgc_activity_score  \n",
       "0                 None               None  \n",
       "1                 None               None  "
      ]
     },
     "execution_count": 5,
     "metadata": {},
     "output_type": "execute_result"
    }
   ],
   "source": [
    "query = '''\n",
    "SELECT * FROM microbe_bgc limit 2\n",
    "'''\n",
    "result_df = pd.read_sql(query,conn)\n",
    "result_df"
   ]
  }
 ],
 "metadata": {
  "kernelspec": {
   "display_name": "Python 3 (ipykernel)",
   "language": "python",
   "name": "python3"
  },
  "language_info": {
   "codemirror_mode": {
    "name": "ipython",
    "version": 3
   },
   "file_extension": ".py",
   "mimetype": "text/x-python",
   "name": "python",
   "nbconvert_exporter": "python",
   "pygments_lexer": "ipython3",
   "version": "3.8.13"
  }
 },
 "nbformat": 4,
 "nbformat_minor": 5
}
