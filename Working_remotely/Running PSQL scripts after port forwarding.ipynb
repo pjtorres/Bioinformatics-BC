{
 "cells": [
  {
   "cell_type": "markdown",
   "metadata": {},
   "source": [
    "By this time we shoudl have already figured out how to port forward and are working on the desired aws server from the confort of our own computer. Now lets say we have a relational database (PSQL) where all our data is kept and we want to pull form that information. All we need is to 1. already be connected to our remote server and 2. Have an .ini file. Example of one is found in this directory. example.ini"
   ]
  },
  {
   "cell_type": "code",
   "execution_count": null,
   "metadata": {},
   "outputs": [],
   "source": [
    "%matplotlib inline\n",
    "\n",
    "from __future__ import division\n",
    "import boto3\n",
    "import io\n",
    "import os\n",
    "import sys\n",
    "import pandas as pd\n",
    "import numpy as np\n",
    "import seaborn as sns\n",
    "import matplotlib.pyplot as plt\n",
    "import configparser\n",
    "import psycopg2 \n",
    "\n",
    "from matplotlib import rc\n",
    "from copy import copy\n"
   ]
  },
  {
   "cell_type": "code",
   "execution_count": null,
   "metadata": {},
   "outputs": [],
   "source": [
    "#connecting to your relational database. You will need your own config file. You can find an example of one in this \n",
    "# directory named example.ini\n",
    "\n",
    "config = configparser.ConfigParser()\n",
    "config.read('example.ini')\n",
    "\n",
    "username = config['DB']['PGUSER']\n",
    "password = config['DB']['PGPASSWORD']\n",
    "\n",
    "conn = psycopg2.connect(host=config['DB']['VBDBHIC1_HOST'],\n",
    "                                database=\"postgres\", # this changes to what ever your host database name is\n",
    "                                user=username,\n",
    "                                password=password)\n",
    "\n",
    "conn"
   ]
  },
  {
   "cell_type": "code",
   "execution_count": null,
   "metadata": {},
   "outputs": [],
   "source": [
    "#example query\n",
    "samples_query = \"\"\"\n",
    "select * \n",
    " from samples \n",
    " limit 10\n",
    "\"\"\"\n",
    "\n",
    "sample = pd.read_sql(samples_query, conn)\n",
    "print(sample.shape)"
   ]
  },
  {
   "cell_type": "code",
   "execution_count": null,
   "metadata": {},
   "outputs": [],
   "source": [
    "# disconnect when done\n",
    "conn.close()"
   ]
  }
 ],
 "metadata": {
  "kernelspec": {
   "display_name": "Python 3",
   "language": "python",
   "name": "python3"
  },
  "language_info": {
   "codemirror_mode": {
    "name": "ipython",
    "version": 3
   },
   "file_extension": ".py",
   "mimetype": "text/x-python",
   "name": "python",
   "nbconvert_exporter": "python",
   "pygments_lexer": "ipython3",
   "version": "3.7.4"
  }
 },
 "nbformat": 4,
 "nbformat_minor": 2
}
