{
 "cells": [
  {
   "cell_type": "markdown",
   "metadata": {},
   "source": [
    "# Some tips on working remotely with a jupyter notebook"
   ]
  },
  {
   "cell_type": "markdown",
   "metadata": {},
   "source": [
    "#### Detting up jupyter notebook on your aws instance. Some of the fownlaods are specifically for my computer and instance, but you can modify as you see fit"
   ]
  },
  {
   "cell_type": "markdown",
   "metadata": {},
   "source": [
    "You must install conda and jupyter notebook and the r kernel in jupyter notebook\n"
   ]
  },
  {
   "cell_type": "code",
   "execution_count": null,
   "metadata": {},
   "outputs": [],
   "source": [
    "# Get conda\n",
    "wget https://repo.anaconda.com/archive/Anaconda3-5.3.1-Linux-x86_64.sh\n",
    "    \n",
    "#Install anaconda:\n",
    "bash Anaconda3-5.3.1-Linux-x86_64.sh "
   ]
  },
  {
   "cell_type": "markdown",
   "metadata": {},
   "source": [
    "Steps 4-6 in the following website give you a good breakdown in how to install jupyter notebook and then fill out its configurations:\n",
    "[Next – Running Jupyter Notebook on an EC2 Server](https://dataschool.com/data-modeling-101/running-jupyter-notebook-on-an-ec2-server/)\n"
   ]
  },
  {
   "cell_type": "code",
   "execution_count": null,
   "metadata": {},
   "outputs": [],
   "source": [
    "# In the end, my configuration looks like the following:\n",
    "conf = get_config()\n",
    " \n",
    "conf.NotebookApp.ip = '0.0.0.0'\n",
    "conf.NotebookApp.password = u'<hash password>'\n",
    "conf.NotebookApp.port = 6666\n"
   ]
  },
  {
   "cell_type": "code",
   "execution_count": null,
   "metadata": {},
   "outputs": [],
   "source": [
    "# Specific for what I needed for my analysis could change for you\n",
    "pip install biopython\n",
    "pip install boto3\n",
    "pip install matplotlib\n",
    "\n",
    "pip install pyyaml\n",
    "pip install pandas\n",
    "pip install awscli\n",
    "\n",
    "pip install sshtunnel\n",
    "pip install psycopg2\n",
    "\n",
    "# If you need R kernel do the follwing\n",
    "conda install -c r r-irkernel"
   ]
  },
  {
   "cell_type": "markdown",
   "metadata": {},
   "source": [
    " I keep my above port 6666 as the default but you can change it to whatever"
   ]
  },
  {
   "cell_type": "markdown",
   "metadata": {},
   "source": [
    "# Port forwarding"
   ]
  },
  {
   "cell_type": "markdown",
   "metadata": {},
   "source": [
    "At my work I do SSH remote port forwarding through bastion like server (trampoline). Following are some good resources regarding port fowarding\n",
    "\n",
    "https://www.ssh.com/academy/ssh/tunneling\n",
    "https://www.ssh.com/academy/ssh/tunneling/example\n",
    "http://rubenlaguna.com/post/2014-06-10-ssh-port-forwarding-through-multiple-hops-slash-dot-ssh-slash-config-slash/\n",
    "\n",
    "Removing a port foward running in background\n",
    "https://superuser.com/questions/87014/how-do-i-remove-an-ssh-forwarded-port/1245530\n"
   ]
  },
  {
   "cell_type": "markdown",
   "metadata": {},
   "source": [
    "To access my local machine and jupyter notebook there is a multi port forwarding \n",
    " \n",
    "Mycomputer -> trampoline -> aws instance\n"
   ]
  },
  {
   "cell_type": "markdown",
   "metadata": {},
   "source": [
    " \n",
    "Starting from my computer:\n",
    "\n",
    "1. ssh -A  -i ~/.ssh/id_rsa -L  localhost:6666:localhost:6666 pedrotorres@trampoline.viome.com -v -v \n",
    "        a. The -A allows me to forward my authentication agent or key. This migh tnow be the best but for now will do. -i gives it the location of my id_rsa and -L specifies the connection to the given port on the local. -v -v just allows me to trouble shoot later\n",
    "\n",
    "2. Once inside of trampoline:\n",
    "        a. ssh -A -i \"Bioinfo_US_east_1.pem\" -L localhost:6666:localhost:6666  ubuntu@ec2-3-81-xxx-xxx.compute-1.amazonaws.com -v -v \n",
    "3. Once inside aws instance then start jupyter notebook:\n",
    "        a. jupyter notebook --no-browser\n",
    "        b.Keep in mind that my default port above is 6666 but if that is not the case then i must specify:jupyter   notebook --no-browser --port=6666\n",
    " \n",
    "Now I might see the following:\n",
    "\tubuntu@ip-xxx-xxx-x-xx:~$ jupyter notebook --no-browser --port=6666\n",
    "[I 20:50:05.605 NotebookApp] Writing notebook server cookie secret to /run/user/1000/jupyter/notebook_cookie_secret\n",
    "[I 20:50:05.830 NotebookApp] JupyterLab extension loaded from /home/ubuntu/anaconda3/lib/python3.7/site-packages/jupyterlab\n",
    "[I 20:50:05.830 NotebookApp] JupyterLab application directory is /home/ubuntu/anaconda3/share/jupyter/lab\n",
    "[I 20:50:05.833 NotebookApp] Serving notebooks from local directory: /home/ubuntu\n",
    "[I 20:50:05.833 NotebookApp] The Jupyter Notebook is running at:\n",
    "[I 20:50:05.833 NotebookApp] http://(ip-192-168-2-89 or 127.0.0.1):6666/\n",
    "[I 20:50:05.833 NotebookApp] Use Control-C to stop this server and shut down all kernels (twice to skip confirmation).\n",
    " \n",
    "5. Go to browser and insert: http://localhost:6666/\n",
    "You should get a page that asks for the password which you should have already set up in the earlier steps (https://dataschool.com/data-modeling-101/running-jupyter-notebook-on-an-ec2-server/). \n"
   ]
  },
  {
   "cell_type": "markdown",
   "metadata": {},
   "source": [
    "### Trouble Shooting\n",
    "\n",
    "You might get on your browser, I am using a mac, and try to insert the above http to your browser (such as chrome) and get This site can’t be reached. Error. If this is the case try another browser, i used firefox and still got the following error This address is restricted. Then what i did is follow the instruction found here https://www.ryadel.com/en/firefox-this-address-is-restricted-override-fix-port/\n",
    "And added the port 6666 to it. Once I finished I opened a new firefox page and voila I was able to access a jupyter notebook on my aws server from the comfort of my computer. \n"
   ]
  }
 ],
 "metadata": {
  "kernelspec": {
   "display_name": "Python 3",
   "language": "python",
   "name": "python3"
  },
  "language_info": {
   "codemirror_mode": {
    "name": "ipython",
    "version": 3
   },
   "file_extension": ".py",
   "mimetype": "text/x-python",
   "name": "python",
   "nbconvert_exporter": "python",
   "pygments_lexer": "ipython3",
   "version": "3.7.4"
  }
 },
 "nbformat": 4,
 "nbformat_minor": 2
}
